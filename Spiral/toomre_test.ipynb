{
 "cells": [
  {
   "cell_type": "code",
   "execution_count": 15,
   "id": "39ce403e",
   "metadata": {},
   "outputs": [],
   "source": [
    "import numpy as np\n",
    "import matplotlib.pyplot as plt\n",
    "from astropy import units as u\n",
    "from astropy.constants import G, k_B, m_p"
   ]
  },
  {
   "cell_type": "code",
   "execution_count": 16,
   "id": "8cd03b45",
   "metadata": {},
   "outputs": [],
   "source": [
    "def sound_speed(gamma, T, mu):\n",
    "    return np.sqrt(gamma*k_B*T/(mu*m_p))\n",
    "    "
   ]
  },
  {
   "cell_type": "code",
   "execution_count": 17,
   "id": "b3e816a3",
   "metadata": {},
   "outputs": [],
   "source": [
    "#mass in kg r in m for right now\n",
    "'''\n",
    "def kep_freq(mass, rad):\n",
    "    m = (mass * u.M_sun).to(u.kg)\n",
    "    r = (rad * u.AU).to(u.m)\n",
    "    #G = 6.67e-11 # in m^3/kg s^2\n",
    "    v = np.sqrt(G*m/r)\n",
    "    orb = np.pi*2*r\n",
    "    freq = v/orb\n",
    "    return freq\n",
    "'''\n",
    "\n",
    "def kep_freq(mass, rad):\n",
    "    m = (mass * u.M_sun).to(u.kg)\n",
    "    r = (rad * u.AU).to(u.m)\n",
    "    v = np.sqrt(G*m/(r**3))\n",
    "    return v"
   ]
  },
  {
   "cell_type": "code",
   "execution_count": null,
   "id": "dc732830",
   "metadata": {},
   "outputs": [],
   "source": []
  },
  {
   "cell_type": "code",
   "execution_count": 18,
   "id": "99666a83",
   "metadata": {},
   "outputs": [
    {
     "data": {
      "text/latex": [
       "$[1.9909837 \\times 10^{-7},~1.9974416 \\times 10^{-8},~8.3820186 \\times 10^{-9},~4.853281 \\times 10^{-9},~3.2543561 \\times 10^{-9},~2.374357 \\times 10^{-9},~1.8300639 \\times 10^{-9},~1.4660289 \\times 10^{-9},~1.2084924 \\times 10^{-9},~1.0184229 \\times 10^{-9},~8.7343129 \\times 10^{-10},~7.5985146 \\times 10^{-10},~6.6891816 \\times 10^{-10},~5.9477799 \\times 10^{-10},~5.3338863 \\times 10^{-10},~4.8187809 \\times 10^{-10},~4.381557 \\times 10^{-10},~4.0066713 \\times 10^{-10},~3.6823534 \\times 10^{-10},~3.3995438 \\times 10^{-10}] \\; \\mathrm{\\frac{1}{s}}$"
      ],
      "text/plain": [
       "<Quantity [1.99098367e-07, 1.99744161e-08, 8.38201863e-09, 4.85328105e-09,\n",
       "           3.25435613e-09, 2.37435703e-09, 1.83006391e-09, 1.46602888e-09,\n",
       "           1.20849244e-09, 1.01842286e-09, 8.73431293e-10, 7.59851465e-10,\n",
       "           6.68918158e-10, 5.94777991e-10, 5.33388631e-10, 4.81878094e-10,\n",
       "           4.38155700e-10, 4.00667132e-10, 3.68235344e-10, 3.39954378e-10] 1 / s>"
      ]
     },
     "execution_count": 18,
     "metadata": {},
     "output_type": "execute_result"
    }
   ],
   "source": [
    "radius = np.linspace(1,70, 20)\n",
    "kep_test = kep_freq(1, radius)\n",
    "kep_test"
   ]
  },
  {
   "cell_type": "code",
   "execution_count": null,
   "id": "b9fd59dc",
   "metadata": {},
   "outputs": [],
   "source": [
    "#surface density\n",
    "#probably want to modify this to match disk mass in Moor 2018\n",
    "\n",
    "def sigma(r, gas):\n",
    "    R_c=140 * u.AU\n",
    "    if gas == \"CO\":\n",
    "        M_disk=np.log10(-6.5)*u.M_sun.to(u.kg)\n",
    "        gamma=-.5\n",
    "    elif gas == \"H\":\n",
    "        M_disk=np.log10(-9)\n",
    "        gamma=-1.8\n",
    "\n",
    "    first_term = M_disk*(2-gamma)/(np.pi*2*R_c**2)\n",
    "    second_term = (r/R_c)**(-gamma)\n",
    "    exp=(-r/R_c)**(2-gamma)\n",
    "    density=first_term*second_term*np.e**exp\n",
    "    return density"
   ]
  },
  {
   "cell_type": "code",
   "execution_count": 20,
   "id": "f10c6542",
   "metadata": {},
   "outputs": [
    {
     "name": "stderr",
     "output_type": "stream",
     "text": [
      "/soft/anaconda3/lib/python3.7/site-packages/ipykernel_launcher.py:7: RuntimeWarning: invalid value encountered in log10\n",
      "  import sys\n",
      "/soft/anaconda3/lib/python3.7/site-packages/ipykernel_launcher.py:15: RuntimeWarning: invalid value encountered in power\n",
      "  from ipykernel import kernelapp as app\n"
     ]
    },
    {
     "data": {
      "text/plain": [
       "array([nan, nan, nan, nan, nan, nan, nan, nan, nan, nan, nan, nan, nan,\n",
       "       nan, nan, nan, nan, nan, nan, nan])"
      ]
     },
     "execution_count": 20,
     "metadata": {},
     "output_type": "execute_result"
    }
   ],
   "source": [
    "sigma(radius, \"CO\")"
   ]
  },
  {
   "cell_type": "code",
   "execution_count": null,
   "id": "381e7a7b",
   "metadata": {},
   "outputs": [],
   "source": [
    "def gi(cs, freq, sigma):\n",
    "    return cs*freq/(np.pi*sigma*G)"
   ]
  }
 ],
 "metadata": {
  "kernelspec": {
   "display_name": "base",
   "language": "python",
   "name": "python3"
  },
  "language_info": {
   "codemirror_mode": {
    "name": "ipython",
    "version": 3
   },
   "file_extension": ".py",
   "mimetype": "text/x-python",
   "name": "python",
   "nbconvert_exporter": "python",
   "pygments_lexer": "ipython3",
   "version": "3.7.5"
  }
 },
 "nbformat": 4,
 "nbformat_minor": 5
}
