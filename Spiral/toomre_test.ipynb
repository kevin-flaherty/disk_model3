{
 "cells": [
  {
   "cell_type": "code",
   "execution_count": 1,
   "id": "39ce403e",
   "metadata": {},
   "outputs": [],
   "source": [
    "import numpy as np\n",
    "import matplotlib.pyplot as plt\n",
    "from astropy import units as u\n",
    "from astropy.constants import G, sigma_sb, k_B, m_p\n"
   ]
  },
  {
   "cell_type": "code",
   "execution_count": 2,
   "id": "d4b83f23",
   "metadata": {},
   "outputs": [],
   "source": [
    "def temp(L, d):\n",
    "    t4 = L/(16*np.pi*sigma_sb*(d**2))\n",
    "    return np.power(t4, 1/4)"
   ]
  },
  {
   "cell_type": "code",
   "execution_count": 3,
   "id": "8cd03b45",
   "metadata": {},
   "outputs": [],
   "source": [
    "def sound_speed(gamma, T, mu):\n",
    "    gamma=1\n",
    "    speed = np.sqrt(gamma*k_B*T/(mu*m_p))\n",
    "    return speed\n",
    "    "
   ]
  },
  {
   "cell_type": "code",
   "execution_count": 4,
   "id": "efc9c8c5",
   "metadata": {},
   "outputs": [
    {
     "data": {
      "text/latex": [
       "$1085.9097 \\; \\mathrm{\\frac{J^{1/2}}{K^{1/2}\\,kg^{1/2}}}$"
      ],
      "text/plain": [
       "<Quantity 1085.90974084 J(1/2) / (K(1/2) kg(1/2))>"
      ]
     },
     "execution_count": 4,
     "metadata": {},
     "output_type": "execute_result"
    }
   ],
   "source": [
    "sound_speed(-.1, 2000, 14)"
   ]
  },
  {
   "cell_type": "code",
   "execution_count": 5,
   "id": "c27c1dca",
   "metadata": {},
   "outputs": [],
   "source": [
    "def omega(ms,d):\n",
    "    m = (ms * u.M_sun).to(u.kg)\n",
    "    '''Keplerian frequency in [Hz]\n",
    "    ms = mass of the central object [msun]\n",
    "    r = radius [au]'''\n",
    "   \n",
    "    return np.sqrt(G*ms/d**3)"
   ]
  },
  {
   "cell_type": "code",
   "execution_count": 6,
   "id": "b3e816a3",
   "metadata": {},
   "outputs": [],
   "source": [
    "#mass in kg r in m for right now\n",
    "\n",
    "def kep_freq(mass, rad):\n",
    "    m = (mass * u.M_sun).to(u.kg)\n",
    "    r = (rad * u.AU).to(u.m)\n",
    "    #G = 6.67e-11 # in m^3/kg s^2\n",
    "    v = np.sqrt(G*m/r)\n",
    "    orb = np.pi*2*r\n",
    "    freq = v/orb\n",
    "    return freq"
   ]
  },
  {
   "cell_type": "code",
   "execution_count": 7,
   "id": "99666a83",
   "metadata": {},
   "outputs": [
    {
     "data": {
      "text/latex": [
       "$[3.1687489 \\times 10^{-8},~3.1790271 \\times 10^{-9},~1.3340397 \\times 10^{-9},~7.7242367 \\times 10^{-10},~5.1794686 \\times 10^{-10},~3.7789066 \\times 10^{-10},~2.9126372 \\times 10^{-10},~2.3332574 \\times 10^{-10},~1.9233755 \\times 10^{-10},~1.6208703 \\times 10^{-10},~1.3901091 \\times 10^{-10},~1.2093412 \\times 10^{-10},~1.0646163 \\times 10^{-10},~9.4661857 \\times 10^{-11},~8.4891437 \\times 10^{-11},~7.6693281 \\times 10^{-11},~6.9734646 \\times 10^{-11},~6.3768155 \\times 10^{-11},~5.8606475 \\times 10^{-11},~5.410542 \\times 10^{-11}] \\; \\mathrm{\\frac{1}{s}}$"
      ],
      "text/plain": [
       "<Quantity [3.16874893e-08, 3.17902705e-09, 1.33403970e-09, 7.72423669e-10,\n",
       "           5.17946864e-10, 3.77890659e-10, 2.91263717e-10, 2.33325742e-10,\n",
       "           1.92337546e-10, 1.62087032e-10, 1.39010908e-10, 1.20934117e-10,\n",
       "           1.06461631e-10, 9.46618574e-11, 8.48914372e-11, 7.66932807e-11,\n",
       "           6.97346455e-11, 6.37681546e-11, 5.86064752e-11, 5.41054197e-11] 1 / s>"
      ]
     },
     "execution_count": 7,
     "metadata": {},
     "output_type": "execute_result"
    }
   ],
   "source": [
    "radius = np.linspace(1,70, 20)\n",
    "kep_test = kep_freq(1, radius)\n",
    "kep_test"
   ]
  },
  {
   "cell_type": "code",
   "execution_count": 38,
   "id": "b9fd59dc",
   "metadata": {},
   "outputs": [],
   "source": [
    "#surface density\n",
    "def sigma(m_d, gamma, rc, d):\n",
    "    #m_disk = (m_d * u.M_sun).to(u.kg)\n",
    "    m_disk = m_d\n",
    "    #print(m_disk)\n",
    "    term1 = m_disk*(2-gamma)/(2*np.pi*(rc**2))\n",
    "    #print(term1)\n",
    "    term2 = (d/rc)**-gamma\n",
    "    #print(term2)\n",
    "    exp = np.exp(-(d/rc)**(2-gamma))\n",
    "    #print(exp)\n",
    "    return term1*term2*exp"
   ]
  },
  {
   "cell_type": "code",
   "execution_count": 39,
   "id": "4ee95a8e",
   "metadata": {},
   "outputs": [
    {
     "name": "stderr",
     "output_type": "stream",
     "text": [
      "/soft/anaconda3/lib/python3.7/site-packages/ipykernel_launcher.py:1: RuntimeWarning: invalid value encountered in log10\n",
      "  \"\"\"Entry point for launching an IPython kernel.\n"
     ]
    },
    {
     "data": {
      "text/plain": [
       "nan"
      ]
     },
     "execution_count": 39,
     "metadata": {},
     "output_type": "execute_result"
    }
   ],
   "source": [
    "np.log10(-6)"
   ]
  },
  {
   "cell_type": "code",
   "execution_count": 40,
   "id": "2c94193e",
   "metadata": {},
   "outputs": [
    {
     "data": {
      "text/plain": [
       "3.162277660168379e-07"
      ]
     },
     "execution_count": 40,
     "metadata": {},
     "output_type": "execute_result"
    }
   ],
   "source": [
    "10**-6.5"
   ]
  },
  {
   "cell_type": "code",
   "execution_count": 41,
   "id": "8f3dd87d",
   "metadata": {},
   "outputs": [],
   "source": [
    "sigma_test = sigma(10**-6.5, -.5, 140, radius)"
   ]
  },
  {
   "cell_type": "code",
   "execution_count": 42,
   "id": "7a7b1b83",
   "metadata": {},
   "outputs": [
    {
     "data": {
      "text/plain": [
       "array([5.42548014e-13, 1.16739582e-12, 1.55828007e-12, 1.86725517e-12,\n",
       "       2.12909689e-12, 2.35833532e-12, 2.56250184e-12, 2.74596862e-12,\n",
       "       2.91145021e-12, 3.06070401e-12, 3.19489876e-12, 3.31482625e-12,\n",
       "       3.42103179e-12, 3.51389910e-12, 3.59370825e-12, 3.66067673e-12,\n",
       "       3.71498935e-12, 3.75682070e-12, 3.78635213e-12, 3.80378471e-12])"
      ]
     },
     "execution_count": 42,
     "metadata": {},
     "output_type": "execute_result"
    }
   ],
   "source": [
    "sigma_test"
   ]
  },
  {
   "cell_type": "code",
   "execution_count": 43,
   "id": "381e7a7b",
   "metadata": {},
   "outputs": [],
   "source": [
    "def gi(L, m_star, m_disk, mu, rc, gamma, radius):\n",
    "    surf = sigma(m_disk, gamma, rc, radius)*(u.M_sun/(u.AU**2)).to(u.kg/u.meter**2)\n",
    "    #print(\"sigma \"+ str(surf))\n",
    "    radius = radius*u.AU.to(u.meter)\n",
    "    lum = (L*u.L_sun).to(u.Watt)\n",
    "    #print(\"lum \"+ str(lum))\n",
    "    T = temp(lum, radius) * u.Kelvin\n",
    "    #print(\"T \"+ str(T))\n",
    "    cs = sound_speed(1, T, mu) * u.meter/u.second\n",
    "    #print(\"cs \"+ str(cs))\n",
    "    m_star = m_star*u.Msun.to(u.kg)\n",
    "    freq = omega(m_star, radius)/u.second\n",
    "    #print(\"freq \"+ str(freq))\n",
    "    #surf = sigma(m_disk, gamma, rc, radius)*u.kg/(u.meter**2)\n",
    "    #print(\"sigma \"+ str(surf))\n",
    "    return cs*freq/(np.pi*surf*G)"
   ]
  },
  {
   "cell_type": "code",
   "execution_count": 44,
   "id": "5a349893",
   "metadata": {},
   "outputs": [
    {
     "data": {
      "text/plain": [
       "\"found 18.4 L_sun in literature(Wahhaj 2007) using stellar mass from Meredith's paper (2.1), \""
      ]
     },
     "execution_count": 44,
     "metadata": {},
     "output_type": "execute_result"
    }
   ],
   "source": [
    "'''found 18.4 L_sun in literature(Wahhaj 2007) using stellar mass from Meredith's paper (2.1), '''"
   ]
  },
  {
   "cell_type": "code",
   "execution_count": 45,
   "id": "581f13e2",
   "metadata": {},
   "outputs": [],
   "source": [
    "rad = np.linspace(5, 300, 50)"
   ]
  },
  {
   "cell_type": "code",
   "execution_count": 48,
   "id": "2ee7ee7b",
   "metadata": {},
   "outputs": [],
   "source": [
    "test = gi(18.4, 2.1, 10**-6, 2, 140, -0.5, rad)"
   ]
  },
  {
   "cell_type": "code",
   "execution_count": null,
   "id": "15801c28",
   "metadata": {},
   "outputs": [],
   "source": []
  },
  {
   "cell_type": "code",
   "execution_count": 49,
   "id": "833682ed",
   "metadata": {},
   "outputs": [
    {
     "data": {
      "text/plain": [
       "Text(0.5, 1.0, 'Gravitational Instability in 49 Ceti')"
      ]
     },
     "execution_count": 49,
     "metadata": {},
     "output_type": "execute_result"
    },
    {
     "data": {
      "image/png": "[encoded data removed]",
      "text/plain": [
       "<Figure size 432x288 with 1 Axes>"
      ]
     },
     "metadata": {
      "needs_background": "light"
     },
     "output_type": "display_data"
    }
   ],
   "source": [
    "fig, ax = plt.subplots()\n",
    "plt.plot(rad, np.log10(test.value))\n",
    "ax.set_xlabel(\"Radius (AU)\")\n",
    "ax.set_ylabel(\"log10 Q (Toomre parameter)\")\n",
    "ax.set_title(\"Gravitational Instability in 49 Ceti\")"
   ]
  },
  {
   "cell_type": "code",
   "execution_count": null,
   "id": "10f7fe7c",
   "metadata": {},
   "outputs": [],
   "source": []
  },
  {
   "cell_type": "code",
   "execution_count": null,
   "id": "996a067e",
   "metadata": {},
   "outputs": [
    {
     "ename": "AttributeError",
     "evalue": "'Quantity' object has no 'cartesian' member",
     "output_type": "error",
     "traceback": [
      "\u001b[0;31m---------------------------------------------------------------------------\u001b[0m\n",
      "\u001b[0;31mAttributeError\u001b[0m                            Traceback (most recent call last)\n",
      "\u001b[0;32m<ipython-input-92-bad0a57b7b46>\u001b[0m in \u001b[0;36m<module>\u001b[0;34m\u001b[0m\n",
      "\u001b[1;32m      1\u001b[0m \u001b[0mfig\u001b[0m\u001b[0;34m,\u001b[0m \u001b[0max\u001b[0m \u001b[0;34m=\u001b[0m \u001b[0mplt\u001b[0m\u001b[0;34m.\u001b[0m\u001b[0msubplots\u001b[0m\u001b[0;34m(\u001b[0m\u001b[0;34m)\u001b[0m\u001b[0;34m\u001b[0m\u001b[0;34m\u001b[0m\u001b[0m\n",
      "\u001b[0;32m----> 2\u001b[0;31m \u001b[0mplt\u001b[0m\u001b[0;34m.\u001b[0m\u001b[0mplot\u001b[0m\u001b[0;34m(\u001b[0m\u001b[0mrad\u001b[0m\u001b[0;34m,\u001b[0m \u001b[0mnp\u001b[0m\u001b[0;34m.\u001b[0m\u001b[0mlog10\u001b[0m\u001b[0;34m(\u001b[0m\u001b[0mtest\u001b[0m\u001b[0;34m.\u001b[0m\u001b[0mcartesian\u001b[0m\u001b[0;34m)\u001b[0m\u001b[0;34m)\u001b[0m\u001b[0;34m\u001b[0m\u001b[0;34m\u001b[0m\u001b[0m\n",
      "\u001b[0m\u001b[1;32m      3\u001b[0m \u001b[0max\u001b[0m\u001b[0;34m.\u001b[0m\u001b[0mset_xlabel\u001b[0m\u001b[0;34m(\u001b[0m\u001b[0;34m\"Radius (AU)\"\u001b[0m\u001b[0;34m)\u001b[0m\u001b[0;34m\u001b[0m\u001b[0;34m\u001b[0m\u001b[0m\n",
      "\u001b[1;32m      4\u001b[0m \u001b[0max\u001b[0m\u001b[0;34m.\u001b[0m\u001b[0mset_ylabel\u001b[0m\u001b[0;34m(\u001b[0m\u001b[0;34m\"Q (Toomre parameter)\"\u001b[0m\u001b[0;34m)\u001b[0m\u001b[0;34m\u001b[0m\u001b[0;34m\u001b[0m\u001b[0m\n",
      "\u001b[1;32m      5\u001b[0m \u001b[0max\u001b[0m\u001b[0;34m.\u001b[0m\u001b[0mset_title\u001b[0m\u001b[0;34m(\u001b[0m\u001b[0;34m\"Gravitational Instability in 49 Ceti\"\u001b[0m\u001b[0;34m)\u001b[0m\u001b[0;34m\u001b[0m\u001b[0;34m\u001b[0m\u001b[0m\n",
      "\n",
      "\u001b[0;32m/soft/anaconda3/lib/python3.7/site-packages/astropy/units/quantity.py\u001b[0m in \u001b[0;36m__getattr__\u001b[0;34m(self, attr)\u001b[0m\n",
      "\u001b[1;32m    842\u001b[0m                 \"'{}' object has no '{}' member\".format(\n",
      "\u001b[1;32m    843\u001b[0m                     \u001b[0mself\u001b[0m\u001b[0;34m.\u001b[0m\u001b[0m__class__\u001b[0m\u001b[0;34m.\u001b[0m\u001b[0m__name__\u001b[0m\u001b[0;34m,\u001b[0m\u001b[0;34m\u001b[0m\u001b[0;34m\u001b[0m\u001b[0m\n",
      "\u001b[0;32m--> 844\u001b[0;31m                     attr))\n",
      "\u001b[0m\u001b[1;32m    845\u001b[0m \u001b[0;34m\u001b[0m\u001b[0m\n",
      "\u001b[1;32m    846\u001b[0m         \u001b[0;32mdef\u001b[0m \u001b[0mget_virtual_unit_attribute\u001b[0m\u001b[0;34m(\u001b[0m\u001b[0;34m)\u001b[0m\u001b[0;34m:\u001b[0m\u001b[0;34m\u001b[0m\u001b[0;34m\u001b[0m\u001b[0m\n",
      "\n",
      "\u001b[0;31mAttributeError\u001b[0m: 'Quantity' object has no 'cartesian' member"
     ]
    },
    {
     "data": {
      "image/png": "[encoded data removed]",
      "text/plain": [
       "<Figure size 432x288 with 1 Axes>"
      ]
     },
     "metadata": {},
     "output_type": "display_data"
    }
   ],
   "source": [
    "fig, ax = plt.subplots()\n",
    "plt.plot(rad, np.log10(test.cartesian))\n",
    "ax.set_xlabel(\"Radius (AU)\")\n",
    "ax.set_ylabel(\"Q (Toomre parameter)\")\n",
    "ax.set_title(\"Gravitational Instability in 49 Ceti\")"
   ]
  },
  {
   "cell_type": "code",
   "execution_count": null,
   "id": "39809e43",
   "metadata": {},
   "outputs": [
    {
     "data": {
      "text/plain": [
       "(50,)"
      ]
     },
     "execution_count": 21,
     "metadata": {},
     "output_type": "execute_result"
    }
   ],
   "source": [
    "test.shape"
   ]
  },
  {
   "cell_type": "code",
   "execution_count": null,
   "id": "3250cca0",
   "metadata": {},
   "outputs": [
    {
     "data": {
      "text/plain": [
       "(50,)"
      ]
     },
     "execution_count": 22,
     "metadata": {},
     "output_type": "execute_result"
    }
   ],
   "source": [
    "rad.shape"
   ]
  },
  {
   "cell_type": "code",
   "execution_count": null,
   "id": "051bab5d",
   "metadata": {},
   "outputs": [
    {
     "data": {
      "text/latex": [
       "$[{\\rm NaN},~{\\rm NaN},~{\\rm NaN},~{\\rm NaN},~{\\rm NaN},~{\\rm NaN},~{\\rm NaN},~{\\rm NaN},~{\\rm NaN},~{\\rm NaN},~{\\rm NaN},~{\\rm NaN},~{\\rm NaN},~{\\rm NaN},~{\\rm NaN},~{\\rm NaN},~{\\rm NaN},~{\\rm NaN},~{\\rm NaN},~{\\rm NaN},~{\\rm NaN},~{\\rm NaN},~{\\rm NaN},~{\\rm NaN},~{\\rm NaN},~{\\rm NaN},~{\\rm NaN},~{\\rm NaN},~{\\rm NaN},~{\\rm NaN},~{\\rm NaN},~{\\rm NaN},~{\\rm NaN},~{\\rm NaN},~{\\rm NaN},~{\\rm NaN},~{\\rm NaN},~{\\rm NaN},~{\\rm NaN},~{\\rm NaN},~{\\rm NaN},~{\\rm NaN},~{\\rm NaN},~{\\rm NaN},~{\\rm NaN},~{\\rm NaN},~{\\rm NaN},~{\\rm NaN},~{\\rm NaN},~{\\rm NaN}] \\; \\mathrm{\\frac{s\\,J^{1/2}}{kg\\,m^{5/4}}}$"
      ],
      "text/plain": [
       "<Quantity [nan, nan, nan, nan, nan, nan, nan, nan, nan, nan, nan, nan, nan,\n",
       "           nan, nan, nan, nan, nan, nan, nan, nan, nan, nan, nan, nan, nan,\n",
       "           nan, nan, nan, nan, nan, nan, nan, nan, nan, nan, nan, nan, nan,\n",
       "           nan, nan, nan, nan, nan, nan, nan, nan, nan, nan, nan] J(1/2) s / (kg m(5/4))>"
      ]
     },
     "execution_count": 23,
     "metadata": {},
     "output_type": "execute_result"
    }
   ],
   "source": [
    "test"
   ]
  },
  {
   "cell_type": "code",
   "execution_count": null,
   "id": "8345cc8a",
   "metadata": {},
   "outputs": [],
   "source": []
  }
 ],
 "metadata": {
  "kernelspec": {
   "display_name": "base",
   "language": "python",
   "name": "python3"
  },
  "language_info": {
   "codemirror_mode": {
    "name": "ipython",
    "version": 3
   },
   "file_extension": ".py",
   "mimetype": "text/x-python",
   "name": "python",
   "nbconvert_exporter": "python",
   "pygments_lexer": "ipython3",
   "version": "3.7.5"
  }
 },
 "nbformat": 4,
 "nbformat_minor": 5
}
