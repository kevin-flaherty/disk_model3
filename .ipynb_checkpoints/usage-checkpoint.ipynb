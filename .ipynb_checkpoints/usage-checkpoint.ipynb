{
 "cells": [
  {
   "cell_type": "markdown",
   "id": "67abbbab-0196-4172-a9aa-d7b34de482ed",
   "metadata": {},
   "source": [
    "# Usage Guide"
   ]
  },
  {
   "cell_type": "markdown",
   "id": "e96125e9-7445-40f8-89f5-4cae60f0f4bb",
   "metadata": {},
   "source": [
    "The following document is a guide to using the disk modeling code. It begins with a Quick Start guide, and progresses into more detail as to how to generate models."
   ]
  },
  {
   "cell_type": "markdown",
   "id": "ada0d3a9-31d1-43b5-a45f-73f400603bb2",
   "metadata": {},
   "source": [
    "## Quick Start Guide"
   ]
  },
  {
   "cell_type": "markdown",
   "id": "f4539360-2e69-40c8-a406-8e5049dd9826",
   "metadata": {},
   "source": [
    "Model images can be generated quickly using the default parameters in the modeling code:"
   ]
  },
  {
   "cell_type": "code",
   "execution_count": 3,
   "id": "2d920d98-8c43-4380-a642-de8f0f05e7d9",
   "metadata": {},
   "outputs": [],
   "source": [
    "import disk\n",
    "x = disk.Disk() #creates a disk object using the default parameters\n",
    "\n",
    "%run raytrace\n",
    "total_model(x) #Runs radiative transfer using the disk object"
   ]
  },
  {
   "cell_type": "markdown",
   "id": "ddcdd116-0699-4b90-9938-8247b0a01a1c",
   "metadata": {},
   "source": [
    "The above code first creates a disk object using the default parameters.\n",
    "\n",
    "`x = disk.Disk()`\n",
    "\n",
    "This disk object contains information on the density, temperature, and velocity throughout the disk. In the next step the code runs radiative transfer on this disk object, again with the default parameters.\n",
    "\n",
    "`total_model(x)`\n",
    "\n",
    "The output will be a fits file called `testpy_alma.fits`. By default this is a 15 channel model, with 0.32 km/s channels, for a HD 163296-like disk (see Rosenfeld et al. 2013). "
   ]
  },
  {
   "cell_type": "markdown",
   "id": "bb2146e5-fbf7-46dd-a8bf-52a9061725d2",
   "metadata": {},
   "source": [
    "## Beyond the default\n",
    "\n",
    "The code is designed to create model images for a wide range of disk structures, observed by different molecules, in a wide variety of observational configurations. As such, there is built-in flexibility when creating the disk object, and when running the radiative transfer.\n",
    "\n",
    "The creation of the disk object and the radiative transfer calculation are independent, such that any disk object that you create can be passed to the radiative transfer calculation without any additional specification. Similary, the same disk object can be imaged using different molecules and spectral/spatial resolutions. This flexibility is designed to allow for efficient modeling of multiple emission lines for a given disk, and for simplified exploration of the parameter space for a given disk.\n",
    "\n",
    "In the space below we start by going through the creation of disk objects, followed by a discussion of variations in the radiative transfer calculation."
   ]
  },
  {
   "cell_type": "markdown",
   "id": "94d240ce-eb67-4ccb-8e52-4094085b23fd",
   "metadata": {},
   "source": [
    "### Different disks\n",
    "\n",
    "There are multiple different base codes that model disk objects (e.g., `disk.py`, `debris_disk.py`) that are used to model disks with different underlying parametric structures (see model.ipynb for more details).\n",
    "\n",
    "Accessing these different base models can be done by importing the different pieces of code. Once the disk code has been imported, the syntax for creating a disk object is the same."
   ]
  },
  {
   "cell_type": "code",
   "execution_count": 4,
   "id": "42db5b5e-5cfa-48f6-b37e-dc820e1419fe",
   "metadata": {},
   "outputs": [],
   "source": [
    "### Create a protoplanetary-like disk\n",
    "import disk\n",
    "ppd = disk.Disk()\n",
    "\n",
    "### Create an eccentric protoplanetary-like disk\n",
    "import disk_ecc\n",
    "ppd_ecc = disk_ecc.Disk()\n",
    "\n",
    "### Create a debris disk\n",
    "import debris_disk\n",
    "dd = debris_disk.Disk()"
   ]
  },
  {
   "cell_type": "markdown",
   "id": "1d08d137-d29b-41ed-9168-a615a87229e9",
   "metadata": {},
   "source": [
    "Each of the above disk objects (`ppd`, `ppd_ecc`, `dd`) can be sent to `total_model` to create model emission. \n",
    "\n",
    "Each of these disk objects has also been created assuming the default parameters for that model. While each model requires a slightly different set of input parameters, the method for specifying these parameters is the same for any type of disk object. This is done by specifying the value of the specific parameter that you want to set. For example, if you want to create a proto-planetary-like object with a temperature power law that goes as $r^{-0.15}$, and a gass mass of 0.01 M$_{sun}$, the syntax is:"
   ]
  },
  {
   "cell_type": "code",
   "execution_count": 5,
   "id": "9ff39d83-47f1-4a70-a202-8d90c861b2f1",
   "metadata": {},
   "outputs": [
    {
     "name": "stderr",
     "output_type": "stream",
     "text": [
      "/Users/kevinflahertyastro/Documents/GitHub/disk_model3/disk.py:209: RuntimeWarning: divide by zero encountered in true_divide\n",
      "  Omg = np.sqrt((dPdr/(rcf*self.rho0)+Disk.G*self.Mstar/(rcf**2+zcf**2)**1.5))\n",
      "/Users/kevinflahertyastro/Documents/GitHub/disk_model3/disk.py:209: RuntimeWarning: invalid value encountered in true_divide\n",
      "  Omg = np.sqrt((dPdr/(rcf*self.rho0)+Disk.G*self.Mstar/(rcf**2+zcf**2)**1.5))\n"
     ]
    }
   ],
   "source": [
    "ppd2 = disk.Disk(q=-0.15,McoG=0.01)"
   ]
  },
  {
   "cell_type": "markdown",
   "id": "021220e5-4e90-4054-93a9-f538004a6b00",
   "metadata": {},
   "source": [
    "In this case the temperature power law parameter and the gas mass have been changed, while the other parameters of the model have been kept at the default values. \n",
    "\n",
    "Similarly, we might want to change the eccentricity for the eccentric disk model, or the stellar luminosity used to calculate the gas and dust temperature in the debris disk model."
   ]
  },
  {
   "cell_type": "code",
   "execution_count": 6,
   "id": "86d98347-954b-46cd-863b-96c085f6f2b2",
   "metadata": {},
   "outputs": [],
   "source": [
    "ppd_ecc2 = disk_ecc.Disk(ecc=0.05)\n",
    "\n",
    "dd2 = debris_disk.Disk(Lstar=0.1) "
   ]
  },
  {
   "cell_type": "markdown",
   "id": "e22652c9-6f10-4c56-a2a4-ed63dd4f21fa",
   "metadata": {},
   "source": [
    "As mentioned above, each type of disk object has a slightly different set of input parameters. The list of input parameters, along with their default values (most often based on a HD 163296-like disk) are listed in the table below.\n",
    "\n",
    "| Parameter | Description | disk.py | disk_pow.py | disk_ecc.py | debris_disk.py | \n",
    "|-----------|-------------|---------|-------------|-------------|----------------|\n",
    "|`q`        | Temperature power law parameter | -0.5    | -0.35      | -0.35      | -0.25          |\n",
    "|`McoG`     | Gas mass (in M$_{sun}$) | 0.09 | 0.09 | 0.09 | 0.09 |\n",
    "|`pp`       | Surface density power law parameter | 1 | 1 | 1 | 1 |\n",
    "|`Rin`      | Inner edge of computational domain, in au | 1 | 1 | 1 | 1 |\n",
    "|`Rout`     | Outer edge of computational domain, in au | 1 | 1 | 1 | 1 |\n",
    "|`Rc`       | Critical radius, in au[^1] | 150 | 150 | 150 | 150 |\n",
    "|`incl`     | Inclination, in degrees | 51.5 | 51.5 | 51.5 | 51.5 |\n",
    "|`Mstar`    | Stellar mass, in M$_{sun}$ | 2.3 | 2.3 | 2.3 | 2.3 |\n",
    "|`Xco`      | CO abundance, relative to H$_2$ | 10$^{-4}$ | 10$^{-4}$ | 10$^{-4}$ | 10$^{-4}$ |\n",
    "|`vturb`    | Turbulence, in units of thermal broadening | 0.01 | 0.01 | 0.01 | 0.01 |\n",
    "|`Zq0`      | $T(z)$ parameter, in au | 33.9 | 33.9 | 33.9 | 33.9 |\n",
    "|`Tmid0`    | Midplane temperature normalization, in K | 19 | 19 | 19 | 19 |\n",
    "|`Tatm0`    | Atmosphere temperature normalization, in K | 69.3 | 69.3 | 69.3 | 69.3 |\n",
    "|`sigbound` | Vertical boundaries for molecular abundance, as vertically integrated column density, in units of $\\Sigma_{21}$ | [0.79,1000] | [0.79,1000] | [0.79, 1000] | [0.79,1000] |\n",
    "|`Rabund`   | Inner and outer radii for molecular gas distribution, in au | [10,1000] | [10,1000] | [10,1000] | [10,1000] |\n",
    "|`handed`   | Handedness of rotation, +1 or -1 | -1 | -1 | -1 | \n",
    "|`vtalpha`  | Radial power law index for turbulence | 0 | 0 | 0 | N/A |\n",
    "|`vtsig`    | Vertical Gaussian width for turbulence | 0 | 0 | 0 | N/A |\n",
    "\n",
    "\n",
    "\n",
    "\n",
    "[^1]: For `disk_pow.py`, `Rc` specifies the outer edge of the disk. "
   ]
  },
  {
   "cell_type": "code",
   "execution_count": null,
   "id": "9300e380-38e0-4628-bbaf-06ef8269e31a",
   "metadata": {},
   "outputs": [],
   "source": []
  }
 ],
 "metadata": {
  "kernelspec": {
   "display_name": "Python 3 (ipykernel)",
   "language": "python",
   "name": "python3"
  },
  "language_info": {
   "codemirror_mode": {
    "name": "ipython",
    "version": 3
   },
   "file_extension": ".py",
   "mimetype": "text/x-python",
   "name": "python",
   "nbconvert_exporter": "python",
   "pygments_lexer": "ipython3",
   "version": "3.9.12"
  }
 },
 "nbformat": 4,
 "nbformat_minor": 5
}
