{
 "cells": [
  {
   "cell_type": "markdown",
   "id": "67abbbab-0196-4172-a9aa-d7b34de482ed",
   "metadata": {},
   "source": [
    "# Usage Guide"
   ]
  },
  {
   "cell_type": "markdown",
   "id": "e96125e9-7445-40f8-89f5-4cae60f0f4bb",
   "metadata": {},
   "source": [
    "The following document is a guide to using the disk modeling code. It begins with a Quick Start guide, and progresses into more detail as to how to generate models."
   ]
  },
  {
   "cell_type": "markdown",
   "id": "ada0d3a9-31d1-43b5-a45f-73f400603bb2",
   "metadata": {},
   "source": [
    "## Quick Start Guide"
   ]
  },
  {
   "cell_type": "markdown",
   "id": "f4539360-2e69-40c8-a406-8e5049dd9826",
   "metadata": {},
   "source": [
    "Model images can be generated quickly using the default parameters in the modeling code:"
   ]
  },
  {
   "cell_type": "code",
   "execution_count": 3,
   "id": "2d920d98-8c43-4380-a642-de8f0f05e7d9",
   "metadata": {},
   "outputs": [],
   "source": [
    "import disk\n",
    "x = disk.Disk() #creates a disk object using the default parameters\n",
    "\n",
    "%run raytrace\n",
    "total_model(x) #Runs radiative transfer using the disk object"
   ]
  },
  {
   "cell_type": "markdown",
   "id": "ddcdd116-0699-4b90-9938-8247b0a01a1c",
   "metadata": {},
   "source": [
    "The above code first creates a disk object using the default parameters.\n",
    "\n",
    "`x = disk.Disk()`\n",
    "\n",
    "This disk object contains information on the density, temperature, and velocity throughout the disk. In the next step the code runs radiative transfer on this disk object, again with the default parameters.\n",
    "\n",
    "`total_model(x)`\n",
    "\n",
    "The output will be a fits file called `testpy_alma.fits`. By default this is a 15 channel model, with 0.32 km/s channels, for a HD 163296-like disk (see Rosenfeld et al. 2013). "
   ]
  },
  {
   "cell_type": "markdown",
   "id": "bb2146e5-fbf7-46dd-a8bf-52a9061725d2",
   "metadata": {},
   "source": [
    "## Beyond the default\n",
    "\n",
    "The code is designed to create model images for a wide range of disk structures, observed by different molecules, in a wide variety of observational configurations. As such, there is built-in flexibility when creating the disk object, and when running the radiative transfer.\n",
    "\n",
    "The creation of the disk object and the radiative transfer calculation are independent, such that any disk object that you create can be passed to the radiative transfer calculation without any additional specification. Similary, the same disk object can be imaged using different molecules and spectral/spatial resolutions. This flexibility is designed to allow for efficient modeling of multiple emission lines for a given disk, and for simplified exploration of the parameter space for a given disk.\n",
    "\n",
    "In the space below we start by going through the creation of disk objects, followed by a discussion of variations in the radiative transfer calculation."
   ]
  },
  {
   "cell_type": "markdown",
   "id": "94d240ce-eb67-4ccb-8e52-4094085b23fd",
   "metadata": {},
   "source": [
    "### Different disks\n",
    "\n",
    "There are multiple different base codes that model disk objects (e.g., `disk.py`, `debris_disk.py`) that are used to model disks with different underlying parametric structures (see model.ipynb for more details).\n",
    "\n",
    "Accessing these different base models can be done by importing the different pieces of code. Once the disk code has been imported, the syntax for creating a disk object is the same."
   ]
  },
  {
   "cell_type": "code",
   "execution_count": 4,
   "id": "42db5b5e-5cfa-48f6-b37e-dc820e1419fe",
   "metadata": {},
   "outputs": [],
   "source": [
    "### Create a protoplanetary-like disk\n",
    "import disk\n",
    "ppd = disk.Disk()\n",
    "\n",
    "### Create an eccentric protoplanetary-like disk\n",
    "import disk_ecc\n",
    "ppd_ecc = disk_ecc.Disk()\n",
    "\n",
    "### Create a debris disk\n",
    "import debris_disk\n",
    "dd = debris_disk.Disk()"
   ]
  },
  {
   "cell_type": "markdown",
   "id": "1d08d137-d29b-41ed-9168-a615a87229e9",
   "metadata": {},
   "source": [
    "Each of the above disk objects (`ppd`, `ppd_ecc`, `dd`) can be sent to `total_model` to create model emission. \n",
    "\n",
    "Each of these disk objects has also been created assuming the default parameters for that model. While each model requires a slightly different set of input parameters, the method for specifying these parameters is the same for any type of disk object. This is done by specifying the value of the specific parameter that you want to set. For example, if you want to create a proto-planetary-like object with a temperature power law that goes as $r^{-0.15}$, and a gass mass of 0.01 M$_{sun}$, the syntax is:"
   ]
  },
  {
   "cell_type": "code",
   "execution_count": 5,
   "id": "9ff39d83-47f1-4a70-a202-8d90c861b2f1",
   "metadata": {},
   "outputs": [
    {
     "name": "stderr",
     "output_type": "stream",
     "text": [
      "/Users/kevinflahertyastro/Documents/GitHub/disk_model3/disk.py:209: RuntimeWarning: divide by zero encountered in true_divide\n",
      "  Omg = np.sqrt((dPdr/(rcf*self.rho0)+Disk.G*self.Mstar/(rcf**2+zcf**2)**1.5))\n",
      "/Users/kevinflahertyastro/Documents/GitHub/disk_model3/disk.py:209: RuntimeWarning: invalid value encountered in true_divide\n",
      "  Omg = np.sqrt((dPdr/(rcf*self.rho0)+Disk.G*self.Mstar/(rcf**2+zcf**2)**1.5))\n"
     ]
    }
   ],
   "source": [
    "ppd2 = disk.Disk(q=-0.15,McoG=0.01)"
   ]
  },
  {
   "cell_type": "markdown",
   "id": "021220e5-4e90-4054-93a9-f538004a6b00",
   "metadata": {},
   "source": [
    "In this case the temperature power law parameter and the gas mass have been changed, while the other parameters of the model have been kept at the default values. \n",
    "\n",
    "Similarly, we might want to change the eccentricity for the eccentric disk model, or the stellar luminosity used to calculate the gas and dust temperature in the debris disk model."
   ]
  },
  {
   "cell_type": "code",
   "execution_count": 6,
   "id": "86d98347-954b-46cd-863b-96c085f6f2b2",
   "metadata": {},
   "outputs": [],
   "source": [
    "ppd_ecc2 = disk_ecc.Disk(ecc=0.05)\n",
    "\n",
    "dd2 = debris_disk.Disk(Lstar=0.1) "
   ]
  },
  {
   "cell_type": "markdown",
   "id": "e22652c9-6f10-4c56-a2a4-ed63dd4f21fa",
   "metadata": {},
   "source": [
    "As mentioned above, each type of disk object has a slightly different set of input parameters. The list of input parameters, along with their default values (most often based on a HD 163296-like disk) are listed in the table below.\n",
    "\n",
    "| Parameter | Description | disk.py | disk_pow.py | disk_ecc.py | debris_disk.py | \n",
    "|-----------|-------------|---------|-------------|-------------|----------------|\n",
    "|`q`        | Temperature power law parameter | -0.5    | -0.5      | -0.5      | -0.5          |\n",
    "|`McoG`     | Gas mass (in M$_{sun}$) | 0.09 | 0.09 | 0.09 | 0.09 |\n",
    "|`pp`       | Surface density power law parameter | 1 | 1 | 1 | 1 |\n",
    "|`Rc`       | Critical radius, in au[^1] | 150 | 150 | 150 | 150 |\n",
    "|`incl`     | Inclination, in degrees | 51.5 | 51.5 | 51.5 | 51.5 |\n",
    "|`Mstar`    | Stellar mass, in M$_{sun}$ | 2.3 | 2.3 | 2.3 | 2.3 |\n",
    "|`Xco`      | CO abundance, relative to H$_2$ | 10$^{-4}$ | 10$^{-4}$ | 10$^{-4}$ | 10$^{-4}$ |\n",
    "|`vturb`    | Turbulence, in units of thermal broadening | 0.01 | 0.01 | 0.01 | 0.01 |\n",
    "|`Zq0`      | $T(z)$ parameter, in au | 33.9 | 33.9 | 33.9 | 33.9 |\n",
    "|`Tmid0`    | Midplane temperature normalization, in K | 19 | 19 | 19 | N/A |\n",
    "|`Tatm0`    | Atmosphere temperature normalization, in K | 69.3 | 69.3 | 69.3 | N/A |\n",
    "|`sigbound` | Vertical boundaries for molecular abundance, as vertically integrated column density, in units of $\\Sigma_{21}$ | [0.79,1000] | [0.79,1000] | [0.79, 1000] | [0.79,1000] |\n",
    "|`Rabund`   | Inner and outer radii for molecular gas distribution, in au | [10,1000] | [10,1000] | [10,1000] | [10,1000] |\n",
    "|`handed`   | Handedness of rotation, +1 or -1 | -1 | -1 | -1 | \n",
    "|`vtalpha`  | Radial power law index for turbulence | 0 | 0 | 0 | N/A |\n",
    "|`vtsig`    | Vertical Gaussian width for turbulence | 0 | 0 | 0 | N/A |\n",
    "|`Lstar`    | Stellar luminosity, in L$_{sun}$ | N/A | N/A | N/A | 1 |\n",
    "|`sh_param` | Scale height parameter, =H/R | N/A | N/A | N/A | .1 |\n",
    "|`ecc`      | Eccentricity of the disk | N/A | N/A | 0. | N/A |\n",
    "|`aop`      | Angle of periapsis, in degrees | N/A | N/A | 0. | N/A |\n",
    "\n",
    "|Parameter | Description |  disk.py | disk_pow.py | disk_ecc.py | debris_disk.py | \n",
    "|----------|-------------|---------|-------------|-------------|----------------|\n",
    "|`nr`      | Number of grid cells in the radial direction in the radiative transfer grid | 180 | 180 | 180 | 180 |\n",
    "|`nphi`    | Number of grid cells in the azimuthal direction in the radiative transfer grid | 131 | 131 | 131 | 131 |\n",
    "|`nz`      | Number of grid cells in the vertical direction in the radiative transfer grid | 300 | 300 | 300 | 300 |\n",
    "|`zmax`    | Maximum vertical extent of the computational domain, in au | 170 | 170 | 170 | 170 |\n",
    "|`Rin`      | Inner radial edge of computational domain, in au | 1 | 10 | N/A | 10 |\n",
    "|`Rout`     | Outer radial edge of computational domain, in au | 1000 | 1000 | N/A | 1000 |\n",
    "|`Ain`      | Inner radial edge of the computational domain, in au | N/A | N/A | 10 | N/A |\n",
    "|`Aout`     | Outer radial edge of the computational domain, in au | N/A | N/A | 1000 | N/A |\n",
    "|`r_gridsize`| Number of radial grid cells when calculating density, temperature | N/A | N/A | N/A | 500 |\n",
    "|`z_gridsize`| Number of vertical grid cells when calculating density, temperature | N/A | N/A | N/A | 500 |\n",
    "\n",
    "\n",
    "In addition to input parameters with numerical values, there are other parametes that control e.g. how turbulence is treated \n",
    "\n",
    "|Parameter | Description |  disk.py | disk_pow.py | disk_ecc.py | debris_disk.py | \n",
    "|----------|-------------|---------|-------------|-------------|----------------|\n",
    "|`rtg`     |Calculate the radiative tranfer grid when creating the disk object? | True | True | True | True|\n",
    "|`vcs`  |Treat turbulence as protportional to the sound speed?[^2] | True | True | True | True|\n",
    "|'`sh_relation` | How H is related to R[^3] | N/A | N/A | N/A | `'linear'` |\n",
    "|`line` | Molecular line to model[^4] | `'co'` | `'co'` | `'co'` | `'co'` |\n",
    "|`ring` | Add a ring?[^5] | `None` | `None` | `None` | `None` |\n",
    "|`annulus` | Include an annulus[^6] | N/A | N/A | N/A | `None` |\n",
    "|`exp_temp` | Use an exponential vertical temperature profile | False | False | N/A | N/A |\n",
    "|`include_selfgrav` | Include disk self-gravity in the orbital velocity calculation | False | False | N/A | N/A |\n",
    "\n",
    "\n",
    "\n",
    "[^1]: For `disk_pow.py`, `Rc` specifies the outer edge of the disk. \n",
    "[^2]: If False, the `vturb` value is treated as the turbulence in units of km/s.\n",
    "[^3]: Possible values are `'linear'` or `'const'`.\n",
    "[^4]: Possible values are `'co'`, `'c18p'`, `'13co'`, `'hco'`, `'hcn'`, `'cs'`, `'dco'`.\n",
    "[^5]: Set this parameter to a list of [Rring,Wring,Sig_Enhance] to include a corresponding additional ring of emission, where Rring is the center radius of the ring (in au), Wring is the width of the ring (in au), and Sig_Enhance is ???\n",
    "[^6]: Set this parameter to [Rin,Rout,mass] to include an additional annulus of material, with an inner radius Rin (in au), an outer radius of Rout (in au) and a total mass of mass (in Earth masses)."
   ]
  },
  {
   "cell_type": "markdown",
   "id": "35473bd3-4890-43f8-9a21-db945b9a6d57",
   "metadata": {},
   "source": [
    "### Varying Model Image\n",
    "\n",
    "Once a disk object is created, the function `total_model` can create a set of channel maps. The exact apperance of the disk depends on the number of channels, the exact line used, the size of the image, etc., all of which are specified within `total_model`. These parameters can be broken down into those related to the spectrum, the image, the line, and extra parameters.\n",
    "\n",
    "\n",
    "**Spectral Parameters**\n",
    "\n",
    "|Parameter | Description | Default value | \n",
    "|----------|-------------|---------|\n",
    "|`chanmin` | Minimum velocity, in km/s | -2.24 |\n",
    "|`nchans`  | Number of channels | 15 |\n",
    "|`chanstep`| Channel width, in km/s | 0.32 |\n",
    "|`vsys` | Systemic velocity, in km/s | 5.79 |\n",
    "|`obsv`[^7] | List of velocities for the channels in the data, in km/s | None |\n",
    "|`flipme` | Mirror the spectrum about the central channel?[^8] | True |\n",
    "|`bin` | The factor by which to bin down the spectrum | 1 |\n",
    "|`hanning` | Apply Hanning smoothing in the spectral direction | True |\n",
    "|`l_cloud` | Correct for absorption by an intervening cloud? | False |\n",
    "|`tau` | List of maximum optical depths of intervening clouds | `[0,]` |\n",
    "|`sigma_c` | List of Gaussian cloud widths, in km/s | `[6,]` |\n",
    "|`velocity_c` | List of central velocities for the intervening clouds, in km/s | `[2,]` |\n",
    "\n",
    "**Image Parameters**\n",
    "|Parameter | Description | Default Value |\n",
    "|----------|-------------|---------------|\n",
    "|`imres` | Width of a pixel, in arc-seconds | 0.05 |\n",
    "|`distance`| Distance to the object, in parsecs | 122 |\n",
    "|`PA` | Position angle, east of north, in degrees | 312.46 |\n",
    "|`offs` | List of RA and Dec positional offsets for the disk, in arc-seconds | `[0.0,0.0]` |\n",
    "|`xnpix` | Number of pixels along the x-direction of the image (the image is assumed to be square) | 512 |\n",
    "\n",
    "**Line Parameters**\n",
    "|Parameter | Description | Default Value | \n",
    "|----------|-------------|---------------|\n",
    "|`Jnum`   | Lower J quantum number of the transition | 2 |\n",
    "|`freq0` | Rest frequency of the transition | 345.79599 |\n",
    "|`abund` | Relative abundance of this molecule | 1 | \n",
    "\n",
    "**Other parameters**\n",
    "|Parameter | Description | Default Value |\n",
    "|----------|-------------|---------------|\n",
    "|`wind`  | Include a wind? | False |\n",
    "|`isgas` | Model gas emission? | True |\n",
    "|`includeDust` | Include dust emission? | False |\n",
    "|`extra` | Perform extra calculations?[^9] | 0 |\n",
    "|`modfile` |Base of the model file name | `'testpy_alma'`|\n",
    "\n",
    "\n",
    "[^7]: If specified, the model images will be interpolated onto the velocities in obsv, after adding the systemic velocity. \n",
    "[^8]: If True, this assumes that the central channel corresponds to zero velocity. Otherwise the reflection will be invalid.\n",
    "[^9]: Valid values are 1 (plot a figure showing the disk structure with the tau=1 surface marked with a dashed line), 2.1 (print a list of heights that represent the Nth percentile of where the emission comes from at that radius), 2.2 (prints a list of temperatures that represent the Nth percentile of the gas temperature where the emission comes from at that radius), 3.0 (create channel maps where the pixel value is the height, in au, of the tau=1 surface), 3.1 (create channel maps where the pixel value is the temperature, in K, of the tau=1 surface), 3.2 (create channel maps where the pixel values are the maximum optical depth)"
   ]
  },
  {
   "cell_type": "markdown",
   "id": "f487eecc-d682-424d-a182-764eabe4ffa5",
   "metadata": {},
   "source": [
    "#### Specifying velocities\n",
    "\n",
    "Model images are created at a set of different velocities, and the code includes a number of parameters to specify which velocities are used. There are two factors that, when used together, can complicate this setup (1) saving time by mirroring the emission about the central velocity, and (2) interpolating onto the velocity scale of the data.\n",
    "\n",
    "The code uses the `chanmin`, `chanstep`, and `nchans` keywords to determine the velocities at which to calculate model images:\n",
    "```\n",
    "chans = np.arange(nchans)*chanstep+chanmin\n",
    "```\n",
    "where `chans` is a numpy array containing the velocities of each of the channels. \n",
    "\n",
    "Assuming the disk is axisymmetric (i.e., its structure doesn't change with azimuth) then the emission in corresponding blue- and red-shifted channels is a mirror image of each other. This behavior allows for the modeling calculation to be sped up substantially; half of the channel images can be generated and then mirrored about the center of the disk to produce the emission in corresponding channels on the other side of zero velocity. This is what happens when `flipme=True`, but *it assumes that the central velocity channel has zero velocity.* This means that to properly employ `flipme=True`, the values of `chanstep`, `chanmin`, and `nchans` must be set such that there are an odd number of channels and the central channel has zero velocity.\n",
    "\n",
    "Real data is rarely this well-behaved, and adjustements are needed to accomodate the actual velocities of real data. The first adjustment is that the system we are simulating is almost never at rest with respect to us. It has a systemic velocity either towards or away from us, resulting in the zero velocity channel being offset by `vsys`. The radiative transfer itself is indifferent to this bulk motion of the system, it only depends on the relative velocities of the different regions of the disk relative to this systemic velocity. For this reason the velocities used when performing the radiative transfer (i.e., `chans`) do not include any accounting for the systemic velocity. The systemic velocity is only added to `chans` after model images have been generated. In this case, the value of `chanmin` needs to be specified based on the minimum velocity, *after* subtracting the systemic velocity. \n",
    "\n",
    "The second adjustment is that the channels might not be perfected centered on the systemic velocity. For example, an observation may be taken with channels of velocity 5.1, 5.2, 5.3, 5.4, 5.5 km/s, while the systemic velocity might be 5.27 km/s. In this case the central close is *close* to the systemic velocity, but not quite. To properly use the mirroring technique via the `flipme` keyword, the central channel needs to at exactly zero velocity after accounting for the systemic motion. To account for this offset, the model can be generated at a set of velocities which allow for mirroring the model images, and then interpolated onto the velocity scale of the data. This allows for the computational speed-up associated with mirroring the model images, while also matching the velocities in the data.\n",
    "\n",
    "**Does flipme work for an even number of channels?**\n",
    "\n",
    "**Talk about how binning and hanning smoothing are handled with respect to this velocity information.**\n",
    "\n",
    "Some examples:\n",
    "\n",
    "*Example 1* You want to simulate observations across five channels with 0.25 km/s channel spacings. You are only concerned with the model images, and don't need to match to data.\n",
    "\n",
    "In that case, you would set `nchans=5`, `chanstep=0.25`, `vsys=0`, and `flipme=True`. The parameter `obsv` can be left at its default values. The value of `chanmin` needs to be set so that the central channel, in this case the third channel, has a velocity of zero. With 0.25 km/s, this would imply `chanmin=-0.5`. \n",
    "\n",
    "*Example 2* You want to simulate observations across five channels with 0.25 km/s channel spacings for a system with a systemic velocity of 4.5 km/s.\n",
    "\n",
    "Similar to example 1, you would set `nchans=5`, `chanstep=0.25`, and `flipme=True`, while setting `vsys=4.5`, and leaving `obsv` at its default value. We calculate `chanmin` ignoring the systemic velocity, and assuming the spectrum is centered at zero velocity, which results in `chanmin=-0.5`. \n",
    "\n",
    "*Example 3* You have a set of data with channels at 4.2 km/s, 4.35 km/s, 4.5 km/s, 4.65 km/s, 4.8 km/s, 4.95 km/s for a system with a systemic velocity of 4.65 km/s.\n",
    "\n",
    "First, we can see that `chanstep=0.15` and we know that `vsys=4.65`. Subtracting the systemic velocity from the channel velocities gives `chanmin=-0.45`. The values of `chanstep` and `chanmin` put the zero velocity channel at the fourth channel, which is not the central channel among the six channels in the data. This means we need to use `nchans=7` with `flipme=True`, and set `obsv=[4.2,4.35,4.5,4.65,4.8,4.95]`. The code will calculate the emission at one extra red-shifted channel, but since this is a reflection of the emission in the most blue-shifted channel, it does not cost any extra time. By specifying `obsv` to the velocities of the data, the result with will a model fits file with six channels (not the seven specified by `nchans`), at the velocities of the data.\n",
    "\n",
    "Alternatively, you could set `nchans=6` with `flipme=False` and leave `obsv` as its default value. This will accomplish the same goal, but may take longer as it will need to simulate the emission from every channel individually.  \n",
    "\n",
    "*Example 4* You have a set of data with channels at 5 km/, 5.15 km/s, 5.3 km/s, 5.45 km/s, 5.6 km/s, 5.75 km/s, with a systemic velocity of 5.27 km/s.\n",
    "\n",
    "First, we can set `chanstep=0.15` and `vsys=5.27`. The tricky bit here is what to choose for `chanmin`. Subtracting the systemic velocity from the minimum velocity channel in the data would give -0.27. But this not only results in no channel being at zero velocity (the closest would be a channel 0.03 km/s), it does not allow us to simulate all of the red-shifted channels. The maximum redshift relative to the systemic velocity is 0.48 km/s, and in order to model this channel the minimum channel must be at least this large. The requirement that the minimum be less than -0.48, while setting the central channel at 0, results in `chanmin=-0.6` and `nchans=9`. The value of `obsv` would be a list containing the velocities of the data.\n",
    "\n",
    "\n",
    "Having reached this point in the documentation you might think/hope that there is an easier way to handle all of this. And you are right! The function `calc_chans` within `single_model.py` takes as input the header of a data fits file and the systemic velocity of the data, and returns `obsv`, `chanstep`, `nchans`, `chanmin` (e.g., `obsv,chanstep,nchans,chanmin = calc_chans(hdr,vsys)`). The velocities of the data are calculated based on the header keywords and the subsequent values of `chanstep`, `nchans`, and `chanmin` are calculated according to:\n",
    "```\n",
    "chanstep = np.abs(obsv[1] - obsv[0])\n",
    "nchans = 2*np.ceil(np.abs(obsv-vsys).max()/chanstep)+1\n",
    "chanmin = -(nchans/2. - 0.5)*chanstep\n",
    "```\n",
    "\n",
    "\n",
    "**A note on binning and Hanning smoothing.**\n",
    "\n",
    "During the radiative transfer calculation, there are two additional parameters associated with the velocity scale. The `bin` parameter allows for model images to be created at a high spectral resolution, and then binned down to the observed resolution. The `bin` parameter can be set to any integer, with `bin=1` being the default. For example, setting `bin=2` in *Example 1* above would mean that the model simulates 10 channels at channel spacings of 0.125 km/s, and then bins the data back down to the original 5 channels and 0.25 km/s. The adjustement of `nchans` and `chanstep` is done automatically; you need to specify the `nchans` and `chanstep` of the output without trying to accomodate the correction for binning. If the model is being interpolated onto a set of velocities specified by `obsv`, the interpolation is handled prior to the binning.\n",
    "\n",
    "Hanning smoothing is a correction accounting for the discrete nature of the time offsets used to create a spectrum (**Add link to more details.**). Hanning smoothing is applied after interpolation on `obsv` but before binning down the models. This simulates an observation that is taken at high spectral resolution and binned down to increase the SNR."
   ]
  },
  {
   "cell_type": "code",
   "execution_count": null,
   "id": "9d19caa7-e53a-415e-b0e5-de557aa65c8a",
   "metadata": {},
   "outputs": [],
   "source": []
  },
  {
   "cell_type": "markdown",
   "id": "2f6a388d-a892-4785-b124-e6237c5662e7",
   "metadata": {},
   "source": [
    "Other things to describe in more detail:\n",
    "- the ring parameter in disk.py\n",
    "- the sigbound parameter in disk.py\n",
    "- how the velocities work, especially with flipme and obsv, in total_model\n",
    "- the extra parameter\n",
    "- hanning smoothing and binning\n",
    "- isgas and includeDust, and when to use which one.\n",
    "- the vertical temperature profile for exp_temp\n",
    "- List the valid transitions that it uses\n",
    "- the functions within disk.py and what they do"
   ]
  },
  {
   "cell_type": "code",
   "execution_count": null,
   "id": "b13309f3-3196-4b9f-955c-3b3a81c6476e",
   "metadata": {},
   "outputs": [],
   "source": []
  }
 ],
 "metadata": {
  "kernelspec": {
   "display_name": "Python 3 (ipykernel)",
   "language": "python",
   "name": "python3"
  },
  "language_info": {
   "codemirror_mode": {
    "name": "ipython",
    "version": 3
   },
   "file_extension": ".py",
   "mimetype": "text/x-python",
   "name": "python",
   "nbconvert_exporter": "python",
   "pygments_lexer": "ipython3",
   "version": "3.9.12"
  }
 },
 "nbformat": 4,
 "nbformat_minor": 5
}
